{
  "nbformat": 4,
  "nbformat_minor": 0,
  "metadata": {
    "colab": {
      "provenance": []
    },
    "kernelspec": {
      "name": "python3",
      "display_name": "Python 3"
    },
    "language_info": {
      "name": "python"
    }
  },
  "cells": [
    {
      "cell_type": "markdown",
      "source": [
        "## Treinamento do modelo e exportação (treinar_modelo_45dias.py)\n",
        "\n"
      ],
      "metadata": {
        "id": "Ir4Ex7rFh__M"
      }
    },
    {
      "cell_type": "code",
      "source": [
        "import yfinance as yf\n",
        "import pandas as pd\n",
        "import numpy as np\n",
        "import joblib\n",
        "from sklearn.preprocessing import MinMaxScaler\n",
        "from tensorflow.keras.models import Sequential\n",
        "from tensorflow.keras.layers import LSTM, Dropout, Dense\n",
        "from tensorflow.keras.callbacks import EarlyStopping\n",
        "from tensorflow.keras.models import save_model\n",
        "\n",
        "# Fixar seed para reprodutibilidade\n",
        "import random\n",
        "import tensorflow as tf\n",
        "\n",
        "def set_seeds(seed=1995):\n",
        "    np.random.seed(seed)\n",
        "    random.seed(seed)\n",
        "    tf.random.set_seed(seed)\n",
        "\n",
        "set_seeds()\n",
        "\n",
        "# Baixar dados\n",
        "ticker = 'AAPL'\n",
        "inicio = '2018-01-01'\n",
        "fim = '2025-03-30'\n",
        "\n",
        "df = yf.download(ticker, start=inicio, end=fim)\n",
        "df.columns = df.columns.droplevel(0)\n",
        "df.columns.name = None\n",
        "df.columns = ['Preço_Fechamento', 'Máxima', 'Mínima', 'Preço_Abertura', 'Volume_Negociado']\n",
        "df.reset_index(inplace=True)\n",
        "\n",
        "# Criar Retorno_MM3\n",
        "df['Retorno_Diário'] = df['Preço_Fechamento'].pct_change()\n",
        "df['Retorno_MM3'] = df['Retorno_Diário'].rolling(window=3).mean()\n",
        "df.dropna(inplace=True)\n",
        "\n",
        "# Variáveis e normalização\n",
        "variaveis = ['Preço_Fechamento', 'Máxima', 'Mínima', 'Volume_Negociado', 'Retorno_MM3']\n",
        "scaler = MinMaxScaler()\n",
        "dados_normalizados = scaler.fit_transform(df[variaveis])\n",
        "\n",
        "# Janelas\n",
        "janela = 45\n",
        "X, y = [], []\n",
        "for i in range(janela, len(dados_normalizados)):\n",
        "    X.append(dados_normalizados[i-janela:i])\n",
        "    y.append(dados_normalizados[i, 0])\n",
        "\n",
        "X, y = np.array(X), np.array(y)\n",
        "\n",
        "# Split\n",
        "divisao = int(len(X) * 0.8)\n",
        "X_treino, X_teste = X[:divisao], X[divisao:]\n",
        "y_treino, y_teste = y[:divisao], y[divisao:]\n",
        "\n",
        "# Modelo\n",
        "modelo = Sequential()\n",
        "modelo.add(LSTM(50, return_sequences=True, input_shape=(janela, X.shape[2])))\n",
        "modelo.add(Dropout(0.2))\n",
        "modelo.add(LSTM(50))\n",
        "modelo.add(Dropout(0.2))\n",
        "modelo.add(Dense(1))\n",
        "modelo.compile(optimizer='adam', loss='mean_squared_error')\n",
        "\n",
        "early_stop = EarlyStopping(monitor='val_loss', patience=5, restore_best_weights=True)\n",
        "modelo.fit(X_treino, y_treino, validation_data=(X_teste, y_teste), epochs=50, batch_size=32, callbacks=[early_stop])\n",
        "\n",
        "# Salvar modelo e scaler\n",
        "save_model(modelo, 'modelo_45dias.h5')\n",
        "joblib.dump(scaler, 'scaler_45dias.pkl')\n"
      ],
      "metadata": {
        "colab": {
          "base_uri": "https://localhost:8080/"
        },
        "id": "kAk6NUZVh2AN",
        "outputId": "92baa427-56ba-4d2c-a68b-4003694fd11c"
      },
      "execution_count": null,
      "outputs": [
        {
          "output_type": "stream",
          "name": "stdout",
          "text": [
            "YF.download() has changed argument auto_adjust default to True\n"
          ]
        },
        {
          "output_type": "stream",
          "name": "stderr",
          "text": [
            "\r[*********************100%***********************]  1 of 1 completed\n",
            "/usr/local/lib/python3.11/dist-packages/keras/src/layers/rnn/rnn.py:200: UserWarning: Do not pass an `input_shape`/`input_dim` argument to a layer. When using Sequential models, prefer using an `Input(shape)` object as the first layer in the model instead.\n",
            "  super().__init__(**kwargs)\n"
          ]
        },
        {
          "output_type": "stream",
          "name": "stdout",
          "text": [
            "Epoch 1/50\n",
            "\u001b[1m45/45\u001b[0m \u001b[32m━━━━━━━━━━━━━━━━━━━━\u001b[0m\u001b[37m\u001b[0m \u001b[1m6s\u001b[0m 52ms/step - loss: 0.0307 - val_loss: 0.0057\n",
            "Epoch 2/50\n",
            "\u001b[1m45/45\u001b[0m \u001b[32m━━━━━━━━━━━━━━━━━━━━\u001b[0m\u001b[37m\u001b[0m \u001b[1m2s\u001b[0m 45ms/step - loss: 0.0026 - val_loss: 0.0018\n",
            "Epoch 3/50\n",
            "\u001b[1m45/45\u001b[0m \u001b[32m━━━━━━━━━━━━━━━━━━━━\u001b[0m\u001b[37m\u001b[0m \u001b[1m3s\u001b[0m 52ms/step - loss: 0.0020 - val_loss: 0.0013\n",
            "Epoch 4/50\n",
            "\u001b[1m45/45\u001b[0m \u001b[32m━━━━━━━━━━━━━━━━━━━━\u001b[0m\u001b[37m\u001b[0m \u001b[1m2s\u001b[0m 50ms/step - loss: 0.0019 - val_loss: 9.6142e-04\n",
            "Epoch 5/50\n",
            "\u001b[1m45/45\u001b[0m \u001b[32m━━━━━━━━━━━━━━━━━━━━\u001b[0m\u001b[37m\u001b[0m \u001b[1m2s\u001b[0m 43ms/step - loss: 0.0018 - val_loss: 0.0012\n",
            "Epoch 6/50\n",
            "\u001b[1m45/45\u001b[0m \u001b[32m━━━━━━━━━━━━━━━━━━━━\u001b[0m\u001b[37m\u001b[0m \u001b[1m3s\u001b[0m 48ms/step - loss: 0.0016 - val_loss: 9.1827e-04\n",
            "Epoch 7/50\n",
            "\u001b[1m45/45\u001b[0m \u001b[32m━━━━━━━━━━━━━━━━━━━━\u001b[0m\u001b[37m\u001b[0m \u001b[1m2s\u001b[0m 47ms/step - loss: 0.0019 - val_loss: 0.0016\n",
            "Epoch 8/50\n",
            "\u001b[1m45/45\u001b[0m \u001b[32m━━━━━━━━━━━━━━━━━━━━\u001b[0m\u001b[37m\u001b[0m \u001b[1m3s\u001b[0m 54ms/step - loss: 0.0015 - val_loss: 0.0012\n",
            "Epoch 9/50\n",
            "\u001b[1m45/45\u001b[0m \u001b[32m━━━━━━━━━━━━━━━━━━━━\u001b[0m\u001b[37m\u001b[0m \u001b[1m3s\u001b[0m 59ms/step - loss: 0.0016 - val_loss: 0.0017\n",
            "Epoch 10/50\n",
            "\u001b[1m45/45\u001b[0m \u001b[32m━━━━━━━━━━━━━━━━━━━━\u001b[0m\u001b[37m\u001b[0m \u001b[1m4s\u001b[0m 44ms/step - loss: 0.0016 - val_loss: 7.9568e-04\n",
            "Epoch 11/50\n",
            "\u001b[1m45/45\u001b[0m \u001b[32m━━━━━━━━━━━━━━━━━━━━\u001b[0m\u001b[37m\u001b[0m \u001b[1m2s\u001b[0m 43ms/step - loss: 0.0014 - val_loss: 0.0011\n",
            "Epoch 12/50\n",
            "\u001b[1m45/45\u001b[0m \u001b[32m━━━━━━━━━━━━━━━━━━━━\u001b[0m\u001b[37m\u001b[0m \u001b[1m2s\u001b[0m 43ms/step - loss: 0.0016 - val_loss: 0.0012\n",
            "Epoch 13/50\n",
            "\u001b[1m45/45\u001b[0m \u001b[32m━━━━━━━━━━━━━━━━━━━━\u001b[0m\u001b[37m\u001b[0m \u001b[1m3s\u001b[0m 57ms/step - loss: 0.0013 - val_loss: 0.0013\n",
            "Epoch 14/50\n",
            "\u001b[1m45/45\u001b[0m \u001b[32m━━━━━━━━━━━━━━━━━━━━\u001b[0m\u001b[37m\u001b[0m \u001b[1m2s\u001b[0m 47ms/step - loss: 0.0013 - val_loss: 8.3823e-04\n",
            "Epoch 15/50\n",
            "\u001b[1m45/45\u001b[0m \u001b[32m━━━━━━━━━━━━━━━━━━━━\u001b[0m\u001b[37m\u001b[0m \u001b[1m2s\u001b[0m 47ms/step - loss: 0.0014 - val_loss: 0.0015\n"
          ]
        },
        {
          "output_type": "stream",
          "name": "stderr",
          "text": [
            "WARNING:absl:You are saving your model as an HDF5 file via `model.save()` or `keras.saving.save_model(model)`. This file format is considered legacy. We recommend using instead the native Keras format, e.g. `model.save('my_model.keras')` or `keras.saving.save_model(model, 'my_model.keras')`. \n"
          ]
        },
        {
          "output_type": "execute_result",
          "data": {
            "text/plain": [
              "['scaler_45dias.pkl']"
            ]
          },
          "metadata": {},
          "execution_count": 1
        }
      ]
    },
    {
      "cell_type": "markdown",
      "source": [
        "## Fazer previsão com dados até 2025-05-20 (prever_proximo_valor.py)\n",
        "\n"
      ],
      "metadata": {
        "id": "qxI_X_EuiQ8R"
      }
    },
    {
      "cell_type": "code",
      "source": [
        "import yfinance as yf\n",
        "import pandas as pd\n",
        "import numpy as np\n",
        "import joblib\n",
        "from tensorflow.keras.models import load_model\n",
        "\n",
        "# Parâmetros\n",
        "ticker = 'AAPL'\n",
        "data_final = '2025-05-20'\n",
        "janela = 45\n",
        "\n",
        "# Carregar modelo e scaler\n",
        "modelo = load_model('modelo_45dias.h5')\n",
        "scaler = joblib.load('scaler_45dias.pkl')\n",
        "\n",
        "# Coletar dados atualizados\n",
        "df = yf.download(ticker, start='2018-01-01', end=data_final)\n",
        "df.columns = df.columns.droplevel(0)\n",
        "df.columns.name = None\n",
        "df.columns = ['Preço_Fechamento', 'Máxima', 'Mínima', 'Preço_Abertura', 'Volume_Negociado']\n",
        "df.reset_index(inplace=True)\n",
        "\n",
        "# Criar Retorno_MM3\n",
        "df['Retorno_Diário'] = df['Preço_Fechamento'].pct_change()\n",
        "df['Retorno_MM3'] = df['Retorno_Diário'].rolling(window=3).mean()\n",
        "df.dropna(inplace=True)\n",
        "\n",
        "# Usar as mesmas variáveis\n",
        "variaveis = ['Preço_Fechamento', 'Máxima', 'Mínima', 'Volume_Negociado', 'Retorno_MM3']\n",
        "ultimos_dados = df[variaveis].iloc[-janela:]\n",
        "X_input = scaler.transform(ultimos_dados)\n",
        "X_input = X_input.reshape(1, janela, len(variaveis))\n",
        "\n",
        "# Prever\n",
        "previsao_normalizada = modelo.predict(X_input)\n",
        "previsao = scaler.inverse_transform(\n",
        "    np.hstack([previsao_normalizada, np.zeros((1, len(variaveis)-1))])\n",
        ")[0, 0]\n",
        "\n",
        "print(f'Previsão do próximo preço de fechamento: {previsao:.2f} USD')"
      ],
      "metadata": {
        "colab": {
          "base_uri": "https://localhost:8080/"
        },
        "id": "J2nSYXcFh19j",
        "outputId": "31932e7b-21b9-49e0-afe6-ab78a77f8294"
      },
      "execution_count": null,
      "outputs": [
        {
          "output_type": "stream",
          "name": "stderr",
          "text": [
            "WARNING:absl:Compiled the loaded model, but the compiled metrics have yet to be built. `model.compile_metrics` will be empty until you train or evaluate the model.\n",
            "[*********************100%***********************]  1 of 1 completed\n"
          ]
        },
        {
          "output_type": "stream",
          "name": "stdout",
          "text": [
            "\u001b[1m1/1\u001b[0m \u001b[32m━━━━━━━━━━━━━━━━━━━━\u001b[0m\u001b[37m\u001b[0m \u001b[1m0s\u001b[0m 344ms/step\n",
            "Previsão do próximo preço de fechamento: 209.12 USD\n"
          ]
        }
      ]
    },
    {
      "cell_type": "code",
      "source": [],
      "metadata": {
        "id": "BF8fdQFPh17B"
      },
      "execution_count": null,
      "outputs": []
    },
    {
      "cell_type": "code",
      "source": [],
      "metadata": {
        "id": "Bs024EV6h14X"
      },
      "execution_count": null,
      "outputs": []
    },
    {
      "cell_type": "code",
      "source": [],
      "metadata": {
        "id": "CeJGvR5kh111"
      },
      "execution_count": null,
      "outputs": []
    },
    {
      "cell_type": "code",
      "source": [],
      "metadata": {
        "id": "HkbV_mgrh1zT"
      },
      "execution_count": null,
      "outputs": []
    },
    {
      "cell_type": "code",
      "source": [],
      "metadata": {
        "id": "DuA87xhAh1wh"
      },
      "execution_count": null,
      "outputs": []
    },
    {
      "cell_type": "code",
      "source": [],
      "metadata": {
        "id": "Yvhow2l_h1t5"
      },
      "execution_count": null,
      "outputs": []
    },
    {
      "cell_type": "code",
      "source": [],
      "metadata": {
        "id": "fI_QA8Nnh1rH"
      },
      "execution_count": null,
      "outputs": []
    },
    {
      "cell_type": "code",
      "source": [],
      "metadata": {
        "id": "ERwif9O9h1ny"
      },
      "execution_count": null,
      "outputs": []
    },
    {
      "cell_type": "code",
      "execution_count": null,
      "metadata": {
        "id": "vAAWSkrMhyON"
      },
      "outputs": [],
      "source": []
    }
  ]
}