{
  "nbformat": 4,
  "nbformat_minor": 0,
  "metadata": {
    "colab": {
      "provenance": []
    },
    "kernelspec": {
      "name": "python3",
      "display_name": "Python 3"
    },
    "language_info": {
      "name": "python"
    }
  },
  "cells": [
    {
      "cell_type": "code",
      "source": [
        "#pip install fastapi uvicorn joblib tensorflow scikit-learn yfinance\n",
        "from fastapi import FastAPI\n",
        "import yfinance as yf\n",
        "import numpy as np\n",
        "import pandas as pd\n",
        "from tensorflow.keras.models import load_model\n",
        "from sklearn.preprocessing import MinMaxScaler\n",
        "import joblib\n",
        "\n",
        "app = FastAPI()\n",
        "\n",
        "# Carrega o modelo e o scaler\n",
        "modelo = load_model('modelo_45dias.h5')\n",
        "scaler = joblib.load('scaler_45dias.pkl')\n",
        "\n",
        "@app.get(\"/\")\n",
        "def home():\n",
        "    return {\"mensagem\": \"API de previsão de fechamento AAPL com janela de 45 dias.\"}\n",
        "\n",
        "@app.get(\"/prever\")\n",
        "def prever(data_final: str = \"2025-05-20\"):\n",
        "    # Baixar os dados\n",
        "    df = yf.download(\"AAPL\", start=\"2018-01-01\", end=data_final)\n",
        "    df.columns = df.columns.droplevel(0)\n",
        "    df.columns.name = None\n",
        "    df.columns = ['Preço_Fechamento', 'Máxima', 'Mínima', 'Preço_Abertura', 'Volume_Negociado']\n",
        "    df.reset_index(inplace=True)\n",
        "\n",
        "    # Feature: retorno suavizado\n",
        "    df['Retorno_Diário'] = df['Preço_Fechamento'].pct_change()\n",
        "    df['Retorno_MM3'] = df['Retorno_Diário'].rolling(window=3).mean()\n",
        "    df.dropna(inplace=True)\n",
        "\n",
        "    # Selecionar últimas 45 linhas e transformar\n",
        "    variaveis = ['Preço_Fechamento', 'Máxima', 'Mínima', 'Volume_Negociado', 'Retorno_MM3']\n",
        "    ultimos_dados = df[variaveis].iloc[-45:]\n",
        "    X_input = scaler.transform(ultimos_dados)\n",
        "    X_input = X_input.reshape(1, 45, len(variaveis))\n",
        "\n",
        "    # Prever\n",
        "    previsao_normalizada = modelo.predict(X_input)\n",
        "    previsao = scaler.inverse_transform(np.hstack([previsao_normalizada, np.zeros((1, len(variaveis)-1))]))[0, 0]\n",
        "\n",
        "    return {\"previsao_proximo_fechamento\": round(previsao, 2)}\n"
      ],
      "metadata": {
        "id": "rEBmtWF8lIjl",
        "colab": {
          "base_uri": "https://localhost:8080/"
        },
        "outputId": "fa57fab5-dc84-410b-fdfd-97ba6cc09c9f"
      },
      "execution_count": null,
      "outputs": [
        {
          "output_type": "stream",
          "name": "stderr",
          "text": [
            "WARNING:absl:Compiled the loaded model, but the compiled metrics have yet to be built. `model.compile_metrics` will be empty until you train or evaluate the model.\n"
          ]
        }
      ]
    },
    {
      "cell_type": "code",
      "source": [
        "!pip install fastapi"
      ],
      "metadata": {
        "id": "uAt3JPbNlIhJ",
        "colab": {
          "base_uri": "https://localhost:8080/"
        },
        "outputId": "3f3ed8b8-b5ce-45b4-a254-34bc223b0572"
      },
      "execution_count": null,
      "outputs": [
        {
          "output_type": "stream",
          "name": "stdout",
          "text": [
            "Collecting fastapi\n",
            "  Downloading fastapi-0.115.12-py3-none-any.whl.metadata (27 kB)\n",
            "Collecting starlette<0.47.0,>=0.40.0 (from fastapi)\n",
            "  Downloading starlette-0.46.2-py3-none-any.whl.metadata (6.2 kB)\n",
            "Requirement already satisfied: pydantic!=1.8,!=1.8.1,!=2.0.0,!=2.0.1,!=2.1.0,<3.0.0,>=1.7.4 in /usr/local/lib/python3.11/dist-packages (from fastapi) (2.11.4)\n",
            "Requirement already satisfied: typing-extensions>=4.8.0 in /usr/local/lib/python3.11/dist-packages (from fastapi) (4.13.2)\n",
            "Requirement already satisfied: annotated-types>=0.6.0 in /usr/local/lib/python3.11/dist-packages (from pydantic!=1.8,!=1.8.1,!=2.0.0,!=2.0.1,!=2.1.0,<3.0.0,>=1.7.4->fastapi) (0.7.0)\n",
            "Requirement already satisfied: pydantic-core==2.33.2 in /usr/local/lib/python3.11/dist-packages (from pydantic!=1.8,!=1.8.1,!=2.0.0,!=2.0.1,!=2.1.0,<3.0.0,>=1.7.4->fastapi) (2.33.2)\n",
            "Requirement already satisfied: typing-inspection>=0.4.0 in /usr/local/lib/python3.11/dist-packages (from pydantic!=1.8,!=1.8.1,!=2.0.0,!=2.0.1,!=2.1.0,<3.0.0,>=1.7.4->fastapi) (0.4.1)\n",
            "Requirement already satisfied: anyio<5,>=3.6.2 in /usr/local/lib/python3.11/dist-packages (from starlette<0.47.0,>=0.40.0->fastapi) (4.9.0)\n",
            "Requirement already satisfied: idna>=2.8 in /usr/local/lib/python3.11/dist-packages (from anyio<5,>=3.6.2->starlette<0.47.0,>=0.40.0->fastapi) (3.10)\n",
            "Requirement already satisfied: sniffio>=1.1 in /usr/local/lib/python3.11/dist-packages (from anyio<5,>=3.6.2->starlette<0.47.0,>=0.40.0->fastapi) (1.3.1)\n",
            "Downloading fastapi-0.115.12-py3-none-any.whl (95 kB)\n",
            "\u001b[2K   \u001b[90m━━━━━━━━━━━━━━━━━━━━━━━━━━━━━━━━━━━━━━━━\u001b[0m \u001b[32m95.2/95.2 kB\u001b[0m \u001b[31m6.3 MB/s\u001b[0m eta \u001b[36m0:00:00\u001b[0m\n",
            "\u001b[?25hDownloading starlette-0.46.2-py3-none-any.whl (72 kB)\n",
            "\u001b[2K   \u001b[90m━━━━━━━━━━━━━━━━━━━━━━━━━━━━━━━━━━━━━━━━\u001b[0m \u001b[32m72.0/72.0 kB\u001b[0m \u001b[31m5.4 MB/s\u001b[0m eta \u001b[36m0:00:00\u001b[0m\n",
            "\u001b[?25hInstalling collected packages: starlette, fastapi\n",
            "Successfully installed fastapi-0.115.12 starlette-0.46.2\n"
          ]
        }
      ]
    },
    {
      "cell_type": "code",
      "source": [],
      "metadata": {
        "id": "NNby_GvjlIeo"
      },
      "execution_count": null,
      "outputs": []
    },
    {
      "cell_type": "code",
      "execution_count": null,
      "metadata": {
        "id": "Y4GlrMD_k0vC"
      },
      "outputs": [],
      "source": []
    }
  ]
}